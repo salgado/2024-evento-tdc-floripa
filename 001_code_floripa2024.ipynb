{
  "cells": [
    {
      "cell_type": "markdown",
      "id": "2a3143e8-3949-4ecc-905c-8333a43c9c87",
      "metadata": {
        "id": "2a3143e8-3949-4ecc-905c-8333a43c9c87"
      },
      "source": [
        "# Code Workshop TDC DEMO\n",
        "\n"
      ]
    },
    {
      "cell_type": "markdown",
      "id": "68c5e34d-28f9-4195-9f9c-2a8aec1effe6",
      "metadata": {
        "id": "68c5e34d-28f9-4195-9f9c-2a8aec1effe6"
      },
      "source": [
        "## setup\n",
        "\n",
        "* Elastic Credentials - Create an [Elastic Cloud deployment](https://www.elastic.co/search-labs/tutorials/install-elasticsearch/elastic-cloud) to get all Elastic credentials (`ELASTIC_CLOUD_ID`, `ELASTIC_API_KEY`).\n",
        "\n"
      ]
    },
    {
      "cell_type": "markdown",
      "id": "b8e9a58a-942f-4039-96c0-b276d5b8a97f",
      "metadata": {
        "id": "b8e9a58a-942f-4039-96c0-b276d5b8a97f"
      },
      "source": [
        "## Install packages"
      ]
    },
    {
      "cell_type": "code",
      "source": [
        "!pip install -q -U python-dotenv"
      ],
      "metadata": {
        "id": "r6GQkDn44ZUu"
      },
      "id": "r6GQkDn44ZUu",
      "execution_count": 24,
      "outputs": []
    },
    {
      "cell_type": "code",
      "source": [
        "!pip install -q -U install langchain langchain-community pypdf tiktoken langchain_openai langchain_elasticsearch"
      ],
      "metadata": {
        "id": "7LzduN9jX2jY",
        "colab": {
          "base_uri": "https://localhost:8080/"
        },
        "outputId": "cbfd9fa6-7fb3-4cc6-cb54-7687392d756d"
      },
      "id": "7LzduN9jX2jY",
      "execution_count": 25,
      "outputs": [
        {
          "output_type": "stream",
          "name": "stdout",
          "text": [
            "\u001b[33mWARNING: elasticsearch 8.14.0 does not provide the extra 'vectorstore-mmr'\u001b[0m\u001b[33m\n",
            "\u001b[0m"
          ]
        }
      ]
    },
    {
      "cell_type": "markdown",
      "id": "851db243-ca7d-4a7c-a93b-d22ab149a1bb",
      "metadata": {
        "id": "851db243-ca7d-4a7c-a93b-d22ab149a1bb"
      },
      "source": [
        "## Import packages and credentials"
      ]
    },
    {
      "cell_type": "code",
      "source": [
        "from langchain.prompts import ChatPromptTemplate\n",
        "from langchain.schema.runnable import RunnablePassthrough\n",
        "from langchain.schema.output_parser import StrOutputParser\n"
      ],
      "metadata": {
        "id": "BMNul_tFgBKc"
      },
      "id": "BMNul_tFgBKc",
      "execution_count": 26,
      "outputs": []
    },
    {
      "cell_type": "markdown",
      "id": "b2f68db5-21ac-47b0-941b-1d816b586e18",
      "metadata": {
        "id": "b2f68db5-21ac-47b0-941b-1d816b586e18"
      },
      "source": [
        "## Get Credentials"
      ]
    },
    {
      "cell_type": "code",
      "source": [],
      "metadata": {
        "id": "S0N7D2VQb9cA"
      },
      "id": "S0N7D2VQb9cA",
      "execution_count": null,
      "outputs": []
    },
    {
      "cell_type": "code",
      "source": [
        "from google.colab import drive\n",
        "drive.mount('/content/drive')"
      ],
      "metadata": {
        "colab": {
          "base_uri": "https://localhost:8080/"
        },
        "id": "7dcX04p56tv5",
        "outputId": "43071c91-92e5-4ee5-f09d-d45c1d02ebb4"
      },
      "id": "7dcX04p56tv5",
      "execution_count": 27,
      "outputs": [
        {
          "output_type": "stream",
          "name": "stdout",
          "text": [
            "Drive already mounted at /content/drive; to attempt to forcibly remount, call drive.mount(\"/content/drive\", force_remount=True).\n"
          ]
        }
      ]
    },
    {
      "cell_type": "code",
      "source": [
        "import os\n",
        "from dotenv import load_dotenv\n",
        "\n",
        "# Substitua 'path/to/your/.env' pelo caminho correto até o seu arquivo .env no Google Drive\n",
        "env_path=\"/content/drive/MyDrive/@eventos/2024/TDCFloripa/env_.txt\"\n",
        "load_dotenv(env_path)"
      ],
      "metadata": {
        "colab": {
          "base_uri": "https://localhost:8080/"
        },
        "id": "ZsILRbnZO--V",
        "outputId": "431eb53b-c782-4f31-ca1b-430e1bc24ce0"
      },
      "id": "ZsILRbnZO--V",
      "execution_count": 28,
      "outputs": [
        {
          "output_type": "execute_result",
          "data": {
            "text/plain": [
              "True"
            ]
          },
          "metadata": {},
          "execution_count": 28
        }
      ]
    },
    {
      "cell_type": "code",
      "source": [
        "\n",
        "os.environ['OPENAI_API_KEY']=os.getenv('OPENAI_API_KEY')"
      ],
      "metadata": {
        "id": "sqbIseMZXIfc"
      },
      "id": "sqbIseMZXIfc",
      "execution_count": 29,
      "outputs": []
    },
    {
      "cell_type": "code",
      "source": [
        "# Elastic cloud credentials\n",
        "es_cloud_id = os.getenv('cloud_id')\n",
        "es_user = os.getenv('cloud_user')\n",
        "es_pass = os.getenv('cloud_pass')\n",
        "\n",
        "CLOUD_USER=es_user\n",
        "CLOUD_PASS=es_pass\n",
        "CLOUD_ID=es_cloud_id\n",
        "\n",
        "ELASTIC_API_KEY = os.getenv('ELASTIC_API_KEY')\n"
      ],
      "metadata": {
        "id": "0gt5UJHCQEzw"
      },
      "id": "0gt5UJHCQEzw",
      "execution_count": 30,
      "outputs": []
    },
    {
      "cell_type": "code",
      "source": [
        "from langchain.document_loaders import PyPDFLoader\n",
        "\n",
        "# Load PDF\n",
        "loaders = [\n",
        "    # Duplicate documents on purpose - messy data\n",
        "    PyPDFLoader(\"/content/drive/MyDrive/@eventos/2024/TDCFloripa/arquivos/concurso-bnb-edital-1-2022.pdf\")\n",
        "]\n",
        "docs = []\n",
        "for loader in loaders:\n",
        "    docs.extend(loader.load())"
      ],
      "metadata": {
        "id": "UqaYYW3IqOHa"
      },
      "id": "UqaYYW3IqOHa",
      "execution_count": 31,
      "outputs": []
    },
    {
      "cell_type": "code",
      "source": [
        "type(docs[0])"
      ],
      "metadata": {
        "colab": {
          "base_uri": "https://localhost:8080/",
          "height": 121
        },
        "id": "ii3tJ03t6Y9x",
        "outputId": "334bfb15-3b30-4907-b0a0-5a6e86ec8e60"
      },
      "id": "ii3tJ03t6Y9x",
      "execution_count": 32,
      "outputs": [
        {
          "output_type": "execute_result",
          "data": {
            "text/plain": [
              "langchain_core.documents.base.Document"
            ],
            "text/html": [
              "<div style=\"max-width:800px; border: 1px solid var(--colab-border-color);\"><style>\n",
              "      pre.function-repr-contents {\n",
              "        overflow-x: auto;\n",
              "        padding: 8px 12px;\n",
              "        max-height: 500px;\n",
              "      }\n",
              "\n",
              "      pre.function-repr-contents.function-repr-contents-collapsed {\n",
              "        cursor: pointer;\n",
              "        max-height: 100px;\n",
              "      }\n",
              "    </style>\n",
              "    <pre style=\"white-space: initial; background:\n",
              "         var(--colab-secondary-surface-color); padding: 8px 12px;\n",
              "         border-bottom: 1px solid var(--colab-border-color);\"><b>langchain_core.documents.base.Document</b><br/>def __init__(page_content: str, **kwargs: Any) -&gt; None</pre><pre class=\"function-repr-contents function-repr-contents-collapsed\" style=\"\"><a class=\"filepath\" style=\"display:none\" href=\"#\">/usr/local/lib/python3.10/dist-packages/langchain_core/documents/base.py</a>Class for storing a piece of text and associated metadata.</pre>\n",
              "      <script>\n",
              "      if (google.colab.kernel.accessAllowed && google.colab.files && google.colab.files.view) {\n",
              "        for (const element of document.querySelectorAll('.filepath')) {\n",
              "          element.style.display = 'block'\n",
              "          element.onclick = (event) => {\n",
              "            event.preventDefault();\n",
              "            event.stopPropagation();\n",
              "            google.colab.files.view(element.textContent, 9);\n",
              "          };\n",
              "        }\n",
              "      }\n",
              "      for (const element of document.querySelectorAll('.function-repr-contents')) {\n",
              "        element.onclick = (event) => {\n",
              "          event.preventDefault();\n",
              "          event.stopPropagation();\n",
              "          element.classList.toggle('function-repr-contents-collapsed');\n",
              "        };\n",
              "      }\n",
              "      </script>\n",
              "      </div>"
            ]
          },
          "metadata": {},
          "execution_count": 32
        }
      ]
    },
    {
      "cell_type": "code",
      "source": [
        "# Split\n",
        "# from langchain.text_splitter import RecursiveCharacterTextSplitter\n",
        "# text_splitter = RecursiveCharacterTextSplitter(\n",
        "#     chunk_size = 1500,\n",
        "#     chunk_overlap = 500\n",
        "# )\n",
        "\n",
        "# Testar com split de tokens\n",
        "from langchain.text_splitter import TokenTextSplitter\n",
        "text_splitter = TokenTextSplitter(\n",
        "    chunk_size = 500,\n",
        "    chunk_overlap = 30\n",
        ")"
      ],
      "metadata": {
        "id": "d0oc8YsaqXyo"
      },
      "id": "d0oc8YsaqXyo",
      "execution_count": 33,
      "outputs": []
    },
    {
      "cell_type": "code",
      "source": [
        "splits = text_splitter.split_documents(docs)"
      ],
      "metadata": {
        "id": "FSgBhzqeqeUd"
      },
      "id": "FSgBhzqeqeUd",
      "execution_count": 34,
      "outputs": []
    },
    {
      "cell_type": "code",
      "source": [
        "len(splits)"
      ],
      "metadata": {
        "colab": {
          "base_uri": "https://localhost:8080/"
        },
        "id": "TFc08pXGqi6o",
        "outputId": "8fa24ff3-e55d-4a2c-bcf2-182a94eb09cc"
      },
      "id": "TFc08pXGqi6o",
      "execution_count": 35,
      "outputs": [
        {
          "output_type": "execute_result",
          "data": {
            "text/plain": [
              "114"
            ]
          },
          "metadata": {},
          "execution_count": 35
        }
      ]
    },
    {
      "cell_type": "code",
      "source": [
        "from langchain_openai import OpenAIEmbeddings\n"
      ],
      "metadata": {
        "id": "HrUoXa-jaKaz"
      },
      "id": "HrUoXa-jaKaz",
      "execution_count": 36,
      "outputs": []
    },
    {
      "cell_type": "code",
      "source": [
        "ELASTIC_INDEX_NAME=\"tdc-workshop-003\""
      ],
      "metadata": {
        "id": "QIDeY50CbP_N"
      },
      "id": "QIDeY50CbP_N",
      "execution_count": 37,
      "outputs": []
    },
    {
      "cell_type": "code",
      "source": [
        "from langchain_elasticsearch import ElasticsearchStore\n",
        "from langchain_openai import ChatOpenAI\n"
      ],
      "metadata": {
        "id": "74Dkv9YucDgz"
      },
      "id": "74Dkv9YucDgz",
      "execution_count": 38,
      "outputs": []
    },
    {
      "cell_type": "code",
      "source": [
        "query_embedding=OpenAIEmbeddings()\n"
      ],
      "metadata": {
        "id": "lOCR-bpjbwPA"
      },
      "id": "lOCR-bpjbwPA",
      "execution_count": 39,
      "outputs": []
    },
    {
      "cell_type": "code",
      "source": [
        "#query_embedding = GoogleGenerativeAIEmbeddings(\n",
        "#    model=\"models/embedding-001\", task_type=\"retrieval_document\"\n",
        "#)\n",
        "es = ElasticsearchStore.from_documents(\n",
        "    splits,\n",
        "    es_cloud_id=CLOUD_ID,\n",
        "    es_api_key=ELASTIC_API_KEY,\n",
        "    index_name=ELASTIC_INDEX_NAME,\n",
        "    embedding=query_embedding,\n",
        ")"
      ],
      "metadata": {
        "id": "pIqP7_0tqlZX"
      },
      "id": "pIqP7_0tqlZX",
      "execution_count": 40,
      "outputs": []
    },
    {
      "cell_type": "code",
      "source": [
        "def format_docs(docs):\n",
        "    return \" \".join(doc.page_content for doc in docs)\n",
        "    ##return \"\\n\\n\".join(doc.page_content for doc in docs)"
      ],
      "metadata": {
        "id": "8_eqVuIZrZlg"
      },
      "id": "8_eqVuIZrZlg",
      "execution_count": 41,
      "outputs": []
    },
    {
      "cell_type": "code",
      "source": [
        "retriever = es.as_retriever(search_kwargs={\"k\": 3})     #outro ponto de ajuste\n"
      ],
      "metadata": {
        "id": "S_eFoPWcgkEu"
      },
      "id": "S_eFoPWcgkEu",
      "execution_count": 42,
      "outputs": []
    },
    {
      "cell_type": "code",
      "source": [
        "\n",
        "#     | ChatGoogleGenerativeAI(model=\"gemini-pro\", temperature=0.8)\n",
        "\n",
        "template = \"\"\"Answer the question in portuguese based only on the following context:\\n\n",
        "\n",
        "{context}\n",
        "\n",
        "Question: {question}\n",
        "\"\"\"\n",
        "prompt = ChatPromptTemplate.from_template(template)\n",
        "\n",
        "\n",
        "chain = (\n",
        "    {\"context\": retriever | format_docs, \"question\": RunnablePassthrough()}\n",
        "    | prompt\n",
        "    | ChatOpenAI(model=\"gpt-4o\") ## Calling Gpt-4o\n",
        "    | StrOutputParser()\n",
        ")\n",
        "\n"
      ],
      "metadata": {
        "id": "FNq7VlQUrd2J"
      },
      "id": "FNq7VlQUrd2J",
      "execution_count": 43,
      "outputs": []
    },
    {
      "cell_type": "code",
      "source": [
        "def print_chat(text):\n",
        "    # Substitui os caracteres de nova linha e os prompts interrompidos\n",
        "    print(f\"\\n{'-' * 100}\\n\".join([f\"Document {i+1}:\\n\\n\" + d.page_content for i, d in enumerate(docs)]))\n"
      ],
      "metadata": {
        "id": "CC5njweKGKhk"
      },
      "id": "CC5njweKGKhk",
      "execution_count": 44,
      "outputs": []
    },
    {
      "cell_type": "code",
      "source": [
        "question1 = \"Qual o concurso disponivel\"\n",
        "chain.invoke(question1)\n"
      ],
      "metadata": {
        "colab": {
          "base_uri": "https://localhost:8080/",
          "height": 52
        },
        "id": "0AbB4y4XrNQM",
        "outputId": "6aaef09b-ecc1-4522-a3b5-43e57ce4cbe9"
      },
      "id": "0AbB4y4XrNQM",
      "execution_count": 45,
      "outputs": [
        {
          "output_type": "execute_result",
          "data": {
            "text/plain": [
              "'O concurso disponível é para os cargos de Especialista Técnico – Analista de Sistemas, com os perfis de Desenvolvimento de Sistemas e Infraestrutura e Segurança da Informação.'"
            ],
            "application/vnd.google.colaboratory.intrinsic+json": {
              "type": "string"
            }
          },
          "metadata": {},
          "execution_count": 45
        }
      ]
    },
    {
      "cell_type": "markdown",
      "id": "e8bd47b9-b946-46d1-ba02-adbda118415a",
      "metadata": {
        "id": "e8bd47b9-b946-46d1-ba02-adbda118415a"
      },
      "source": [
        "## Add documents"
      ]
    },
    {
      "cell_type": "markdown",
      "source": [
        "Ler PDF"
      ],
      "metadata": {
        "id": "De-_xEoJjw9m"
      },
      "id": "De-_xEoJjw9m"
    },
    {
      "cell_type": "markdown",
      "id": "bd04e921-206e-4c8b-937a-277d2c5a02e6",
      "metadata": {
        "id": "bd04e921-206e-4c8b-937a-277d2c5a02e6"
      },
      "source": [
        "### Let's download the sample dataset and deserialize the document."
      ]
    },
    {
      "cell_type": "code",
      "source": [
        "# PDF"
      ],
      "metadata": {
        "id": "OWW8--vZqM8k"
      },
      "id": "OWW8--vZqM8k",
      "execution_count": null,
      "outputs": []
    },
    {
      "cell_type": "markdown",
      "source": [
        "**Storage**"
      ],
      "metadata": {
        "id": "3nR3PJbHIuIV"
      },
      "id": "3nR3PJbHIuIV"
    },
    {
      "cell_type": "markdown",
      "source": [
        "# Retrieval"
      ],
      "metadata": {
        "id": "oues3527Lb9s"
      },
      "id": "oues3527Lb9s"
    },
    {
      "cell_type": "code",
      "source": [
        "question2 = \"qual a faixa salarial\"\n",
        "chain.invoke(question2)"
      ],
      "metadata": {
        "colab": {
          "base_uri": "https://localhost:8080/",
          "height": 87
        },
        "id": "3hjFBz6WwqeE",
        "outputId": "624b90b9-fdc7-4f33-fb23-bcf3f4cea295"
      },
      "id": "3hjFBz6WwqeE",
      "execution_count": 49,
      "outputs": [
        {
          "output_type": "execute_result",
          "data": {
            "text/plain": [
              "'A faixa salarial inicial é de R$ 6.269,76, composta por um vencimento base de R$ 4.702,32 acrescido de uma gratificação mensal de R$ 1.567,44 durante o contrato de experiência. Após o término do contrato de experiência, com resultado satisfatório, o ocupante do cargo terá direito a uma remuneração adicional pelo exercício de função em comissão, conforme a regulamentação interna.'"
            ],
            "application/vnd.google.colaboratory.intrinsic+json": {
              "type": "string"
            }
          },
          "metadata": {},
          "execution_count": 49
        }
      ]
    },
    {
      "cell_type": "code",
      "source": [
        "question3 = \"Fale mais sobre o cargo Especialista Técnico – Analista de Sistemas – Perfil 1: Desenvolvimento de Sistemas\"\n",
        "chain.invoke(question3)\n"
      ],
      "metadata": {
        "colab": {
          "base_uri": "https://localhost:8080/",
          "height": 174
        },
        "id": "qTkP93FdrsjG",
        "outputId": "0aa955de-c634-4c09-cd76-5e57dad5d0a1"
      },
      "id": "qTkP93FdrsjG",
      "execution_count": 48,
      "outputs": [
        {
          "output_type": "execute_result",
          "data": {
            "text/plain": [
              "'O cargo de **Especialista Técnico – Analista de Sistemas – Perfil 1: Desenvolvimento de Sistemas** é uma posição voltada para o desenvolvimento de sistemas, conforme descrito no contexto fornecido. Aqui estão alguns detalhes adicionais sobre esse cargo:\\n\\n1. **Remuneração**:\\n   - Durante o contrato de experiência, a remuneração é de R$ 4.702,32, acrescida de um terço de gratificação mensal no valor de R$ 1.567,44, totalizando uma remuneração inicial de R$ 6.269,76.\\n   - Após o término do contrato de experiência, desde que o desempenho seja satisfatório, o ocupante do cargo terá direito a uma remuneração adicional pelo exercício da função em comissão, conforme regulamentação interna.\\n\\n2. **Jornada de Trabalho**:\\n   - A jornada de trabalho é de 30 horas semanais.\\n\\n3. **Requisitos Básicos para Contratação**:\\n   - Ser aprovado no concurso público.\\n   - Ter nacionalidade brasileira ou portuguesa (no caso de nacionalidade portuguesa, deve estar amparado pelo Estatuto de Igualdade entre Brasileiros e Portugueses).\\n   - Atender aos critérios estabelecidos para a condição de pessoa com deficiência, se aplicável.\\n\\n4. **Vagas**:\\n   - O cargo oferece 3 vagas para ampla concorrência, 1 vaga reservada para candidatos com deficiência, e um cadastro de reserva para 90 vagas de ampla concorrência, 6 vagas para candidatos com deficiência, e 24 vagas para candidatos negros.\\n\\n5. **Local de Trabalho**:\\n   - Os candidatos contratados serão lotados na sede do Banco do Nordeste do Brasil (BNB), localizada na cidade de Fortaleza/CE.\\n\\n6. **Avaliações**:\\n   - Os candidatos com deficiência que forem aprovados serão convocados para uma avaliação biopsicossocial realizada por uma equipe multiprofissional e interdisciplinar.\\n\\nEste cargo é ideal para profissionais com experiência e habilidades em desenvolvimento de sistemas, e que desejam trabalhar em uma instituição financeira importante como o Banco do Nordeste do Brasil.'"
            ],
            "application/vnd.google.colaboratory.intrinsic+json": {
              "type": "string"
            }
          },
          "metadata": {},
          "execution_count": 48
        }
      ]
    },
    {
      "cell_type": "code",
      "source": [
        "question4 = \"quais os pre-requisitos?\"\n",
        "chain.invoke(question4)"
      ],
      "metadata": {
        "colab": {
          "base_uri": "https://localhost:8080/",
          "height": 174
        },
        "id": "a_zacKug4fcQ",
        "outputId": "226f216e-9ba3-4303-a16a-73cc225df5c4"
      },
      "id": "a_zacKug4fcQ",
      "execution_count": null,
      "outputs": [
        {
          "output_type": "execute_result",
          "data": {
            "text/plain": [
              "'Os pré-requisitos para o ingresso nos quadros do BNB, conforme o edital, são:\\n\\n1. **Não ter praticado crimes**:\\n   - Comprovada prática, nos dois anos anteriores à data prevista para a posse, dos crimes definidos na Lei nº 9.613, de 3 de março de 1998, como crime de lavagem de dinheiro ou ocultação de bens, direitos e valores.\\n   - Outros atos legalmente definidos como crimes contra o Sistema Financeiro Nacional ou a Ordem Econômica Nacional.\\n\\n2. **Autorização para esclarecimentos**:\\n   - Concessão de autorização irrestrita e irrevogável para que o Banco possa solicitar a terceiros e para que esses possam prestar esclarecimentos sobre todos os fatos relacionados às informações prestadas.\\n\\n3. **Preenchimento de documentos internos**:\\n   - Preencher outros documentos internos necessários na qualificação para a contratação, conforme modelos disponibilizados pelo BNB.\\n\\n4. **Resultado positivo no processo de qualificação**:\\n   - Obtenção de resultado positivo no processo de qualificação conforme o subitem 10.4 do edital.\\n\\n5. **Realização de exames médicos admissionais**:\\n   - Submeter-se a exames médicos de avaliação clínica e exames complementares para averiguar a aptidão física e mental para o exercício das atribuições do cargo.\\n\\n6. **Apresentação de documentos**:\\n   - Diploma de conclusão de curso de graduação de nível superior.\\n   - Carteira de Trabalho e Previdência Social atual e anteriores.\\n   - Comprovante de inscrição no PIS/PASEP, se possuir.\\n   - Cadastro de Pessoa Física (CPF).\\n   - Cédula de identidade.\\n   - Título de eleitor.\\n   - Comprovante de votação ou justificativa relativos à última eleição, ou certidão de quitação eleitoral emitida pela Justiça Eleitoral.\\n   - Certificado de reservista ou certificado de alistamento militar, para candidatos do sexo masculino.\\n\\n7. **Outros requisitos**:\\n   - Estar em gozo dos direitos políticos.\\n   - Estar quite com as obrigações militares (para candidatos do sexo masculino).\\n   - Estar quite com as obrigações eleitorais.\\n   - Possuir os requisitos exigidos para o exercício do cargo/perfil.\\n   - Ter idade mínima de 18 anos completos na data da posse.\\n   - Ter aptidão física e mental para o exercício das atribuições do cargo/perfil.\\n   - Declarar, na solicitação de inscrição, que tem ciência e aceita que, caso aprovado, deverá entregar os documentos comprobatórios dos requisitos exigidos para o cargo/perfil por ocasião da contratação.\\n   - Cumprir as determinações do edital.'"
            ],
            "application/vnd.google.colaboratory.intrinsic+json": {
              "type": "string"
            }
          },
          "metadata": {},
          "execution_count": 24
        }
      ]
    },
    {
      "cell_type": "code",
      "source": [
        "# verificar ajustes de tokens de saida"
      ],
      "metadata": {
        "id": "KAx8HKdx99e_"
      },
      "id": "KAx8HKdx99e_",
      "execution_count": null,
      "outputs": []
    },
    {
      "cell_type": "code",
      "source": [
        "!pip install openai"
      ],
      "metadata": {
        "colab": {
          "base_uri": "https://localhost:8080/"
        },
        "id": "QD_qPUvg6LNk",
        "outputId": "0e68f4e0-4110-47ea-8fda-ac06fbaca1e4"
      },
      "id": "QD_qPUvg6LNk",
      "execution_count": 50,
      "outputs": [
        {
          "output_type": "stream",
          "name": "stdout",
          "text": [
            "Requirement already satisfied: openai in /usr/local/lib/python3.10/dist-packages (1.34.0)\n",
            "Requirement already satisfied: anyio<5,>=3.5.0 in /usr/local/lib/python3.10/dist-packages (from openai) (3.7.1)\n",
            "Requirement already satisfied: distro<2,>=1.7.0 in /usr/lib/python3/dist-packages (from openai) (1.7.0)\n",
            "Requirement already satisfied: httpx<1,>=0.23.0 in /usr/local/lib/python3.10/dist-packages (from openai) (0.27.0)\n",
            "Requirement already satisfied: pydantic<3,>=1.9.0 in /usr/local/lib/python3.10/dist-packages (from openai) (2.7.3)\n",
            "Requirement already satisfied: sniffio in /usr/local/lib/python3.10/dist-packages (from openai) (1.3.1)\n",
            "Requirement already satisfied: tqdm>4 in /usr/local/lib/python3.10/dist-packages (from openai) (4.66.4)\n",
            "Requirement already satisfied: typing-extensions<5,>=4.7 in /usr/local/lib/python3.10/dist-packages (from openai) (4.12.2)\n",
            "Requirement already satisfied: idna>=2.8 in /usr/local/lib/python3.10/dist-packages (from anyio<5,>=3.5.0->openai) (3.7)\n",
            "Requirement already satisfied: exceptiongroup in /usr/local/lib/python3.10/dist-packages (from anyio<5,>=3.5.0->openai) (1.2.1)\n",
            "Requirement already satisfied: certifi in /usr/local/lib/python3.10/dist-packages (from httpx<1,>=0.23.0->openai) (2024.6.2)\n",
            "Requirement already satisfied: httpcore==1.* in /usr/local/lib/python3.10/dist-packages (from httpx<1,>=0.23.0->openai) (1.0.5)\n",
            "Requirement already satisfied: h11<0.15,>=0.13 in /usr/local/lib/python3.10/dist-packages (from httpcore==1.*->httpx<1,>=0.23.0->openai) (0.14.0)\n",
            "Requirement already satisfied: annotated-types>=0.4.0 in /usr/local/lib/python3.10/dist-packages (from pydantic<3,>=1.9.0->openai) (0.7.0)\n",
            "Requirement already satisfied: pydantic-core==2.18.4 in /usr/local/lib/python3.10/dist-packages (from pydantic<3,>=1.9.0->openai) (2.18.4)\n"
          ]
        }
      ]
    },
    {
      "cell_type": "code",
      "source": [],
      "metadata": {
        "id": "kHpHXfL48wqM"
      },
      "id": "kHpHXfL48wqM",
      "execution_count": null,
      "outputs": []
    },
    {
      "cell_type": "markdown",
      "source": [
        "# Question Answerings"
      ],
      "metadata": {
        "id": "yYiv7dfo8ph1"
      },
      "id": "yYiv7dfo8ph1"
    },
    {
      "cell_type": "code",
      "source": [
        "# Question Answerings"
      ],
      "metadata": {
        "id": "RHannTGbQJ_u"
      },
      "id": "RHannTGbQJ_u",
      "execution_count": null,
      "outputs": []
    },
    {
      "cell_type": "markdown",
      "source": [
        "## Retrieval Chain types"
      ],
      "metadata": {
        "id": "BL9FiGzuC96p"
      },
      "id": "BL9FiGzuC96p"
    },
    {
      "cell_type": "code",
      "source": [
        "\n",
        "# Run chain\n",
        "from langchain.chains import RetrievalQA\n",
        "question = \"quais cargos abertos no concurso?\"\n"
      ],
      "metadata": {
        "id": "QgMod2IbCo5D"
      },
      "id": "QgMod2IbCo5D",
      "execution_count": 51,
      "outputs": []
    },
    {
      "cell_type": "code",
      "source": [
        "llm_name = \"gpt-3.5-turbo\"\n",
        "llm = ChatOpenAI(model_name=llm_name, temperature=0)\n",
        "llm.predict(\"Bom dia!\")"
      ],
      "metadata": {
        "colab": {
          "base_uri": "https://localhost:8080/",
          "height": 90
        },
        "id": "9PT71I4z6B6W",
        "outputId": "56fe87dc-33e3-4f88-a315-98fefa54e877"
      },
      "id": "9PT71I4z6B6W",
      "execution_count": 52,
      "outputs": [
        {
          "output_type": "stream",
          "name": "stderr",
          "text": [
            "/usr/local/lib/python3.10/dist-packages/langchain_core/_api/deprecation.py:119: LangChainDeprecationWarning: The method `BaseChatModel.predict` was deprecated in langchain-core 0.1.7 and will be removed in 0.3.0. Use invoke instead.\n",
            "  warn_deprecated(\n"
          ]
        },
        {
          "output_type": "execute_result",
          "data": {
            "text/plain": [
              "'Bom dia! Como posso ajudar você hoje?'"
            ],
            "application/vnd.google.colaboratory.intrinsic+json": {
              "type": "string"
            }
          },
          "metadata": {},
          "execution_count": 52
        }
      ]
    },
    {
      "cell_type": "code",
      "source": [
        "# map_reduce\n",
        "qa_chain_mr = RetrievalQA.from_chain_type(\n",
        "    llm,\n",
        "    retriever=retriever,\n",
        "    chain_type=\"map_reduce\"\n",
        ")"
      ],
      "metadata": {
        "id": "5lyhh9PhDCxb"
      },
      "id": "5lyhh9PhDCxb",
      "execution_count": 53,
      "outputs": []
    },
    {
      "cell_type": "code",
      "source": [
        "result = qa_chain_mr({\"query\": question})"
      ],
      "metadata": {
        "id": "XX2HHVZoDN_k",
        "colab": {
          "base_uri": "https://localhost:8080/"
        },
        "outputId": "8b35403b-96aa-41f4-e0eb-b5c72fcc54e8"
      },
      "id": "XX2HHVZoDN_k",
      "execution_count": 54,
      "outputs": [
        {
          "output_type": "stream",
          "name": "stderr",
          "text": [
            "/usr/local/lib/python3.10/dist-packages/langchain_core/_api/deprecation.py:119: LangChainDeprecationWarning: The method `Chain.__call__` was deprecated in langchain 0.1.0 and will be removed in 0.3.0. Use invoke instead.\n",
            "  warn_deprecated(\n"
          ]
        }
      ]
    },
    {
      "cell_type": "code",
      "source": [
        "result[\"result\"]"
      ],
      "metadata": {
        "colab": {
          "base_uri": "https://localhost:8080/",
          "height": 35
        },
        "id": "W1DkUH8MDaZE",
        "outputId": "01c8b120-6aad-46e3-e637-3468d86e6837"
      },
      "id": "W1DkUH8MDaZE",
      "execution_count": 55,
      "outputs": [
        {
          "output_type": "execute_result",
          "data": {
            "text/plain": [
              "'Desculpe, mas não consigo responder a essa pergunta com base no trecho fornecido. Posso ajudar com mais alguma coisa?'"
            ],
            "application/vnd.google.colaboratory.intrinsic+json": {
              "type": "string"
            }
          },
          "metadata": {},
          "execution_count": 55
        }
      ]
    },
    {
      "cell_type": "code",
      "source": [
        "# refine\n",
        "qa_chain_mr = RetrievalQA.from_chain_type(\n",
        "    llm,\n",
        "    retriever=retriever,\n",
        "    chain_type=\"refine\"\n",
        ")\n",
        "result = qa_chain_mr({\"query\": question})\n",
        "result[\"result\"]"
      ],
      "metadata": {
        "colab": {
          "base_uri": "https://localhost:8080/",
          "height": 139
        },
        "id": "iIk3ZilbG7Vr",
        "outputId": "bc28c12b-929e-4b0c-97b0-d3979eb4bcd1"
      },
      "id": "iIk3ZilbG7Vr",
      "execution_count": 56,
      "outputs": [
        {
          "output_type": "execute_result",
          "data": {
            "text/plain": [
              "'Com base no novo contexto fornecido, os cargos abertos no concurso são:\\n\\n- Cargo 1: Especialista Técnico - Analista de Sistemas - Perfil 1: Desenvolvimento de Sistemas\\n- Cargo 2: Especialista Técnico - Analista de Sistemas - Perfil 2: Infraestrutura e Segurança da Informação\\n\\nPara o Cargo 1, há 90 vagas para ampla concorrência, 6 vagas reservadas para candidatos com deficiência e 24 vagas reservadas para candidatos negros.\\n\\nPara o Cargo 2, há 60 vagas para ampla concorrência, 4 vagas reservadas para candidatos com deficiência e 16 vagas reservadas para candidatos negros. No entanto, apenas os 10 candidatos mais bem classificados nas provas objetivas serão convocados para este cargo.\\n\\nOs candidatos contratados serão lotados na sede do BNB, na cidade de Fortaleza/CE.'"
            ],
            "application/vnd.google.colaboratory.intrinsic+json": {
              "type": "string"
            }
          },
          "metadata": {},
          "execution_count": 56
        }
      ]
    },
    {
      "cell_type": "code",
      "source": [
        "# refine\n",
        "qa_chain_mr = RetrievalQA.from_chain_type(\n",
        "    llm,\n",
        "    retriever=retriever,\n",
        "    chain_type=\"map_rerank\"\n",
        ")\n",
        "result = qa_chain_mr({\"query\": question})\n",
        "result[\"result\"]"
      ],
      "metadata": {
        "colab": {
          "base_uri": "https://localhost:8080/",
          "height": 90
        },
        "id": "OS_L8x57IAbt",
        "outputId": "39b334b4-f4fc-4bfa-aff2-92d197a439d1"
      },
      "id": "OS_L8x57IAbt",
      "execution_count": null,
      "outputs": [
        {
          "output_type": "stream",
          "name": "stderr",
          "text": [
            "/usr/local/lib/python3.10/dist-packages/langchain/chains/llm.py:367: UserWarning: The apply_and_parse method is deprecated, instead pass an output parser directly to LLMChain.\n",
            "  warnings.warn(\n"
          ]
        },
        {
          "output_type": "execute_result",
          "data": {
            "text/plain": [
              "'Cargo 2: Especialista Técnico - Analista de Sistemas - Perfil 2: Infraestrutura e Segurança da Informação'"
            ],
            "application/vnd.google.colaboratory.intrinsic+json": {
              "type": "string"
            }
          },
          "metadata": {},
          "execution_count": 53
        }
      ]
    },
    {
      "cell_type": "markdown",
      "source": [
        "# Memory\n"
      ],
      "metadata": {
        "id": "sD4TmkZf8Zzv"
      },
      "id": "sD4TmkZf8Zzv"
    },
    {
      "cell_type": "code",
      "source": [
        "# aplicando memoria\n",
        "from langchain.memory import ConversationBufferMemory\n",
        "memory = ConversationBufferMemory(\n",
        "    memory_key=\"chat_history\",\n",
        "    return_messages=True\n",
        ")"
      ],
      "metadata": {
        "id": "TfLyJ_Pw7IDx"
      },
      "id": "TfLyJ_Pw7IDx",
      "execution_count": 57,
      "outputs": []
    },
    {
      "cell_type": "code",
      "source": [
        "from langchain.chains import ConversationalRetrievalChain\n",
        "retriever=retriever\n",
        "qa = ConversationalRetrievalChain.from_llm(\n",
        "    llm,\n",
        "    retriever=retriever,\n",
        "    memory=memory\n",
        ")"
      ],
      "metadata": {
        "id": "5PB7RnkK7YUu"
      },
      "id": "5PB7RnkK7YUu",
      "execution_count": 58,
      "outputs": []
    },
    {
      "cell_type": "code",
      "source": [
        "result = qa({\"question\": question})"
      ],
      "metadata": {
        "id": "bjCVztrq7gsK"
      },
      "id": "bjCVztrq7gsK",
      "execution_count": 59,
      "outputs": []
    },
    {
      "cell_type": "code",
      "source": [
        "result['answer']"
      ],
      "metadata": {
        "colab": {
          "base_uri": "https://localhost:8080/",
          "height": 70
        },
        "id": "117ViruU7umN",
        "outputId": "cf8f3d91-162e-46bc-f1b8-49d8780e612c"
      },
      "id": "117ViruU7umN",
      "execution_count": 60,
      "outputs": [
        {
          "output_type": "execute_result",
          "data": {
            "text/plain": [
              "'Os cargos abertos no concurso são:\\n\\n1. Cargo 1: Especialista Técnico – Analista de Sistemas – Perfil 1: Desenvolvimento de Sistemas\\n2. Cargo 2: Especialista Técnico – Analista de Sistemas – Perfil 2: Infraestrutura e Segurança da Informação\\n\\nEspero que essa informação seja útil!'"
            ],
            "application/vnd.google.colaboratory.intrinsic+json": {
              "type": "string"
            }
          },
          "metadata": {},
          "execution_count": 60
        }
      ]
    },
    {
      "cell_type": "code",
      "source": [
        "question2= \"Fale mais sobre o Cargo 1: Especialista Técnico – Analista de Sistemas – Perfil 1: Desenvolvimento de Sistemas\""
      ],
      "metadata": {
        "id": "ONLu-jyijXy-"
      },
      "id": "ONLu-jyijXy-",
      "execution_count": 61,
      "outputs": []
    },
    {
      "cell_type": "code",
      "source": [
        "question = question2\n",
        "result = qa({\"question\": question})"
      ],
      "metadata": {
        "id": "DNoo6iJi7zKH"
      },
      "id": "DNoo6iJi7zKH",
      "execution_count": 62,
      "outputs": []
    },
    {
      "cell_type": "code",
      "source": [
        "result['answer']"
      ],
      "metadata": {
        "colab": {
          "base_uri": "https://localhost:8080/",
          "height": 104
        },
        "id": "X_mgW7MD7_hh",
        "outputId": "b18f3a92-87e0-41c5-9df2-9c8329d26f98"
      },
      "id": "X_mgW7MD7_hh",
      "execution_count": 63,
      "outputs": [
        {
          "output_type": "execute_result",
          "data": {
            "text/plain": [
              "'No documento fornecido, o Cargo 1: Especialista Técnico – Analista de Sistemas – Perfil 1: Desenvolvimento de Sistemas possui 90 vagas para ampla concorrência, 6 vagas reservadas para candidatos com deficiência e 24 vagas reservadas para candidatos negros. Os candidatos contratados para esse cargo serão lotados na sede do BNB, na cidade de Fortaleza/CE. Além disso, durante o contrato de experiência, a remuneração para esse cargo é de R$ 6.269,76, com uma jornada de trabalho de 30 horas semanais.'"
            ],
            "application/vnd.google.colaboratory.intrinsic+json": {
              "type": "string"
            }
          },
          "metadata": {},
          "execution_count": 63
        }
      ]
    },
    {
      "cell_type": "code",
      "source": [
        "question = \"Qual o salario para esse cargo\"\n",
        "result = qa({\"question\": question})"
      ],
      "metadata": {
        "id": "MIoZlrst8BCC"
      },
      "id": "MIoZlrst8BCC",
      "execution_count": 64,
      "outputs": []
    },
    {
      "cell_type": "code",
      "source": [
        "result['answer']"
      ],
      "metadata": {
        "id": "VvO5ZDjJGVZU",
        "colab": {
          "base_uri": "https://localhost:8080/",
          "height": 87
        },
        "outputId": "542151e3-c9dd-4daa-a705-61a6a6517044"
      },
      "id": "VvO5ZDjJGVZU",
      "execution_count": 65,
      "outputs": [
        {
          "output_type": "execute_result",
          "data": {
            "text/plain": [
              "'Durante o contrato de experiência, o salário para o Cargo 1 é de R$ 6.269,76, sendo R$ 4.702,32 como vencimento do cargo e R$ 1.567,44 de gratificação mensal. Após o término do contrato de experiência, com resultado satisfatório, o ocupante do cargo terá direito a uma remuneração adicional do exercício de função em comissão, conforme a regulamentação interna.'"
            ],
            "application/vnd.google.colaboratory.intrinsic+json": {
              "type": "string"
            }
          },
          "metadata": {},
          "execution_count": 65
        }
      ]
    },
    {
      "cell_type": "code",
      "source": [],
      "metadata": {
        "id": "RaPsy-PLS1dc"
      },
      "id": "RaPsy-PLS1dc",
      "execution_count": null,
      "outputs": []
    },
    {
      "cell_type": "code",
      "source": [],
      "metadata": {
        "id": "wiwNjBbFTePR"
      },
      "id": "wiwNjBbFTePR",
      "execution_count": null,
      "outputs": []
    }
  ],
  "metadata": {
    "kernelspec": {
      "display_name": "Python 3 (ipykernel)",
      "language": "python",
      "name": "python3"
    },
    "language_info": {
      "codemirror_mode": {
        "name": "ipython",
        "version": 3
      },
      "file_extension": ".py",
      "mimetype": "text/x-python",
      "name": "python",
      "nbconvert_exporter": "python",
      "pygments_lexer": "ipython3",
      "version": "3.11.6"
    },
    "colab": {
      "provenance": []
    }
  },
  "nbformat": 4,
  "nbformat_minor": 5
}